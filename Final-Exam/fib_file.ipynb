{
 "cells": [
  {
   "cell_type": "code",
   "execution_count": 35,
   "metadata": {
    "collapsed": false
   },
   "outputs": [],
   "source": [
    "#Hector Robinson 100568706\n",
    "import numpy as np\n",
    "\n",
    "def fib_file(n, fname):\n",
    "    \n",
    "    #create empty list\n",
    "    f=np.zeros(n+1)\n",
    "\n",
    "    #set first two values\n",
    "    f[0]=0\n",
    "    f[1]=1\n",
    "    \n",
    "    #set rest with loop\n",
    "    for x in range(1,n):\n",
    "        f[x+1]=f[x]+f[x-1]\n",
    "    \n",
    "  \n",
    "    #open file\n",
    "    writer =open(fname + \".txt\",\"w\")\n",
    "    \n",
    "    \n",
    "    #write to file\n",
    "    writer.write('n       F_n \\n')\n",
    "    for x in range(0,n+1):\n",
    "       \n",
    "        writer.write('{}         {} \\n'.format(x,int(f[x])))\n",
    "     \n",
    "    \n",
    "    writer.close()\n",
    "    \n",
    "    \n",
    "    \n",
    "fib_file(6,\"hello\")"
   ]
  },
  {
   "cell_type": "code",
   "execution_count": null,
   "metadata": {
    "collapsed": true
   },
   "outputs": [],
   "source": []
  }
 ],
 "metadata": {
  "kernelspec": {
   "display_name": "Python 3",
   "language": "python",
   "name": "python3"
  },
  "language_info": {
   "codemirror_mode": {
    "name": "ipython",
    "version": 3
   },
   "file_extension": ".py",
   "mimetype": "text/x-python",
   "name": "python",
   "nbconvert_exporter": "python",
   "pygments_lexer": "ipython3",
   "version": "3.4.3"
  }
 },
 "nbformat": 4,
 "nbformat_minor": 0
}
