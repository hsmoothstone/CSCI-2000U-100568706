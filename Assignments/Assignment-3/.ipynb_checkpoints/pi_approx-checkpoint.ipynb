{
 "cells": [
  {
   "cell_type": "code",
   "execution_count": 1,
   "metadata": {
    "collapsed": false
   },
   "outputs": [
    {
     "name": "stdout",
     "output_type": "stream",
     "text": [
      "When n =      10, rho_n = 3.0418396189294032\n",
      "When n =     100, rho_n = 3.1315929035585537\n",
      "When n =    1000, rho_n = 3.140592653839794\n",
      "When n =   10000, rho_n = 3.1414926535900345\n",
      "When n =  100000, rho_n = 3.1415826535897198\n",
      "When n = 1000000, rho_n = 3.1415916535897743\n",
      "When n =      10, tau_n = 3.04936163598207\n",
      "When n =     100, tau_n = 3.1320765318091053\n",
      "When n =    1000, tau_n = 3.1406380562059946\n",
      "When n =   10000, tau_n = 3.1414971639472147\n",
      "When n =  100000, tau_n = 3.141583104326456\n",
      "When n = 1000000, tau_n = 3.1415916986605086\n",
      "When n =      10,  mu_n = 3.1413846224669713\n",
      "When n =     100,  mu_n = 3.1415924153073678\n",
      "When n =    1000,  mu_n = 3.1415926533482703\n",
      "When n =   10000,  mu_n = 3.141592653589592\n",
      "When n =  100000,  mu_n = 3.141592653589592\n",
      "When n = 1000000,  mu_n = 3.141592653589592\n"
     ]
    }
   ],
   "source": [
    "#Hector Robinson 100568706\n",
    "\n",
    "import numpy as np\n",
    "import matplotlib.pyplot as plt\n",
    "%matplotlib inline\n",
    "\n",
    "#list of all n values\n",
    "ns=[10, 100, 1000, 10000, 100000, 1000000]\n",
    "\n",
    "#initialize sum to zero\n",
    "sum=0\n",
    "\n",
    "#loop for calculating rho for each value of n\n",
    "#other loops are generally same idea, with slightly different formulaes inside them\n",
    "for n in ns: \n",
    "    #set sum to zero for each value of n\n",
    "    sum=0\n",
    "    \n",
    "    #calculate the sum\n",
    "    for x in range(n):\n",
    "        k=x+1\n",
    "        sum += ((-1.0)**(k+1.0))/(2.0*k-1.0)\n",
    "    \n",
    "    #multiply sum by 4\n",
    "    sum = sum*4.0\n",
    " \n",
    "    #print out the results(formatted)\n",
    "    print('When n = {:7d}, rho_n = {}'.format(n,sum))\n",
    "    \n",
    "\n",
    "    \n",
    "#loop for calculating tau for each value of n    \n",
    "for n in ns: \n",
    "    sum=0\n",
    "    for x in range(n):\n",
    "        k=x+1\n",
    "        sum += (1.0/k**2)\n",
    "   \n",
    "    sum = sum*6.0\n",
    "    sum = sum **(1.0/2.0)\n",
    " \n",
    "    \n",
    "    print('When n = {:7d}, tau_n = {}'.format(n,sum))\n",
    "    \n",
    "\n",
    "#loop for calculating mu for each value of n\n",
    "for n in ns: \n",
    "    sum=0\n",
    "    for x in range(n):\n",
    "        k=x+1\n",
    "        sum += (1.0/k**(4.0))\n",
    "   \n",
    "    sum = sum*90.0\n",
    "    sum = sum**(1.0/4.0)\n",
    " \n",
    "    \n",
    "    print('When n = {:7d},  mu_n = {}'.format(n,sum))\n",
    "    \n",
    "\n",
    "    \n"
   ]
  },
  {
   "cell_type": "code",
   "execution_count": null,
   "metadata": {
    "collapsed": true
   },
   "outputs": [],
   "source": []
  }
 ],
 "metadata": {
  "kernelspec": {
   "display_name": "Python 3",
   "language": "python",
   "name": "python3"
  },
  "language_info": {
   "codemirror_mode": {
    "name": "ipython",
    "version": 3
   },
   "file_extension": ".py",
   "mimetype": "text/x-python",
   "name": "python",
   "nbconvert_exporter": "python",
   "pygments_lexer": "ipython3",
   "version": "3.4.3"
  }
 },
 "nbformat": 4,
 "nbformat_minor": 0
}
