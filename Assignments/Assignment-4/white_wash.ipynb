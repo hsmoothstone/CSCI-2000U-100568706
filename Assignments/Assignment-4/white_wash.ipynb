{
 "cells": [
  {
   "cell_type": "code",
   "execution_count": 15,
   "metadata": {
    "collapsed": false
   },
   "outputs": [],
   "source": [
    "import numpy as np\n"
   ]
  },
  {
   "cell_type": "code",
   "execution_count": 65,
   "metadata": {
    "collapsed": false
   },
   "outputs": [
    {
     "name": "stdout",
     "output_type": "stream",
     "text": [
      "[[ 1.    0.75  0.85]\n",
      " [ 0.65  0.75  0.8 ]\n",
      " [ 0.7   0.8   0.8 ]]\n"
     ]
    }
   ],
   "source": [
    "#Hector Robinson \n",
    "#100568706ix and \n",
    "\n",
    "#I used np.array for this question\n",
    "\n",
    "\n",
    "#WhiteWash takes M x 3 matrix and returns it with each value averaged with itself and one\n",
    "\n",
    "def WhiteWash(colorMap):\n",
    "    \n",
    "    #start by flattening the whole color map\n",
    "    newColors = colorMap.flatten()\n",
    "    \n",
    "    #make an array of ones and add it to the flattened color map\n",
    "    one = np.ones_like(newColors)\n",
    "    newColors = newColors + one\n",
    "    \n",
    "    \n",
    "    #make an array of 0.5's and multiply by the color map\n",
    "    #this will give us the average of the original colors and white\n",
    "    half=np.zeros_like(newColors)\n",
    "    half.fill(0.5)\n",
    "    newColors = newColors * half\n",
    "    \n",
    "    \n",
    "    #now reshape the array back into a proper color map\n",
    "    newColors=newColors.reshape(newColors.size/3.0 , 3)\n",
    "    \n",
    "\n",
    "    \n",
    "   \n",
    "    return (newColors)\n",
    "\n",
    "\n",
    "\n",
    "#an example\n",
    "\n",
    "h = np.array([[1, .5,.7], [.3,.5,.6],[.4,.6,.6]], float)\n",
    "\n",
    "print(WhiteWash(h))\n",
    "\n",
    "    "
   ]
  },
  {
   "cell_type": "code",
   "execution_count": null,
   "metadata": {
    "collapsed": false
   },
   "outputs": [],
   "source": [
    "\n"
   ]
  },
  {
   "cell_type": "code",
   "execution_count": null,
   "metadata": {
    "collapsed": true
   },
   "outputs": [],
   "source": []
  },
  {
   "cell_type": "code",
   "execution_count": null,
   "metadata": {
    "collapsed": true
   },
   "outputs": [],
   "source": []
  }
 ],
 "metadata": {
  "kernelspec": {
   "display_name": "Python 3",
   "language": "python",
   "name": "python3"
  },
  "language_info": {
   "codemirror_mode": {
    "name": "ipython",
    "version": 3
   },
   "file_extension": ".py",
   "mimetype": "text/x-python",
   "name": "python",
   "nbconvert_exporter": "python",
   "pygments_lexer": "ipython3",
   "version": "3.4.3"
  }
 },
 "nbformat": 4,
 "nbformat_minor": 0
}
