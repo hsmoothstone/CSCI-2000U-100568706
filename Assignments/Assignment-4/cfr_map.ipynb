{
 "cells": [
  {
   "cell_type": "code",
   "execution_count": 2,
   "metadata": {
    "collapsed": false
   },
   "outputs": [],
   "source": [
    " \n",
    "    \n",
    "#HEctor Robinson\n",
    "#100568706\n",
    "\n",
    "import numpy as np\n",
    "import matplotlib.pyplot as plt\n",
    "import matplotlib.animation as animation\n",
    "from JSAnimation.IPython_display import display_animation\n",
    "from numpy import genfromtxt\n",
    "import urllib\n",
    "from mpl_toolkits.basemap import Basemap\n",
    "\n",
    "\n",
    "#input each kind of data into an array, I used np.genfromtxt and a different column # for each one to get the data out\n",
    "#of the csv file\n",
    "names = genfromtxt('Source_data_for_CFR_vaccine_map_abridged.csv', delimiter=',', usecols=(0),  dtype=str,skip_header=1)\n",
    "lat = genfromtxt('Source_data_for_CFR_vaccine_map_abridged.csv', delimiter=',', usecols=(1),  dtype=float,skip_header=1)\n",
    "long= genfromtxt('Source_data_for_CFR_vaccine_map_abridged.csv', delimiter=',', usecols=(2),  dtype=float,skip_header=1)\n",
    "cases = genfromtxt('Source_data_for_CFR_vaccine_map_abridged.csv', delimiter=',', usecols=(3),  dtype=int,skip_header=1)\n",
    "#print(cases)\n",
    "\n",
    "\n",
    "a=np.column_stack((names,lat))\n",
    "b=np.column_stack((a,long))\n",
    "#stack all of the arrays to turn them into a single matrix\n",
    "\n",
    "data=np.column_stack((b,cases))\n"
   ]
  },
  {
   "cell_type": "code",
   "execution_count": 3,
   "metadata": {
    "collapsed": false
   },
   "outputs": [
    {
     "name": "stderr",
     "output_type": "stream",
     "text": [
      "/home/smoothstone/anaconda3/lib/python3.4/site-packages/matplotlib/collections.py:806: RuntimeWarning: invalid value encountered in sqrt\n",
      "  scale = np.sqrt(self._sizes) * dpi / 72.0 * self._factor\n"
     ]
    }
   ],
   "source": [
    "fig = plt.figure(figsize=(14,10))\n",
    "ax = plt.subplot(1,1,1)\n",
    "\n",
    "\n",
    "map = Basemap(projection='mill')\n",
    "# draw coastlines, country boundaries, fill continents.\n",
    "map.drawcoastlines(linewidth=0.5)\n",
    "map.drawcountries(linewidth=0.5)\n",
    "map.fillcontinents(color='white',lake_color='white')\n",
    "\n",
    "map.drawmapboundary(fill_color='white')\n",
    "\n",
    "\n",
    "\n",
    "for (name,lat,long,cases) in data:\n",
    "    \n",
    "    \n",
    "    #convert to x and y, easier to work with\n",
    "    x, y = map(float(long),float(lat))\n",
    "    \n",
    "    #plot on map for each different disease\n",
    "    #changing colors and radii\n",
    "    if name == \"Measles\":\n",
    "        measles = ax.scatter(x,y,float(cases)*.01,zorder=10, facecolors='none', edgecolors='r')\n",
    "\n",
    "    if name == \"Rubella\":\n",
    "        rubella = ax.scatter(x,y,float(cases)*.03,zorder=10, facecolors='none', edgecolors='magenta')\n",
    "        \n",
    "    if name == \"Mumps\":\n",
    "        mumps= ax.scatter(x,y,float(cases)*.1,zorder=10, facecolors='none', edgecolors='g')\n",
    "        \n",
    "    if name == \"Polio\":\n",
    "        polio = ax.scatter(x,y,float(cases)*2,zorder=10, facecolors='none', edgecolors='b')\n",
    "\n",
    "#added a legend        \n",
    "plt.legend((measles,rubella,mumps,polio),('Measles', 'Rubella','Mumps', 'Polio'),scatterpoints=1,markerscale=10, loc='lower left', ncol=4, fontsize=20)\n",
    "\n",
    "\n",
    "plt.show()"
   ]
  },
  {
   "cell_type": "code",
   "execution_count": null,
   "metadata": {
    "collapsed": true
   },
   "outputs": [],
   "source": []
  }
 ],
 "metadata": {
  "kernelspec": {
   "display_name": "Python 3",
   "language": "python",
   "name": "python3"
  },
  "language_info": {
   "codemirror_mode": {
    "name": "ipython",
    "version": 3
   },
   "file_extension": ".py",
   "mimetype": "text/x-python",
   "name": "python",
   "nbconvert_exporter": "python",
   "pygments_lexer": "ipython3",
   "version": "3.4.3"
  }
 },
 "nbformat": 4,
 "nbformat_minor": 0
}
