{
 "cells": [
  {
   "cell_type": "code",
   "execution_count": null,
   "metadata": {
    "collapsed": true
   },
   "outputs": [],
   "source": []
  },
  {
   "cell_type": "code",
   "execution_count": 1,
   "metadata": {
    "collapsed": false
   },
   "outputs": [
    {
     "data": {
      "image/png": "[encoded data removed]",
      "text/plain": [
       "<matplotlib.figure.Figure at 0x7fcaa4106fd0>"
      ]
     },
     "metadata": {},
     "output_type": "display_data"
    }
   ],
   "source": [
    "#Hector Robinson\n",
    "#100568706\n",
    "\n",
    "\n",
    "import struct\n",
    "import numpy as np\n",
    "import matplotlib.pyplot as plt\n",
    "import matplotlib.mlab as mlab\n",
    "%matplotlib inline\n",
    "\n",
    "\n",
    "#read in binary file\n",
    "with open(\"../../Large_Data/halo.dat\", mode='rb') as file: \n",
    "    string = file.read()\n",
    "\n",
    "    \n",
    "#unpack first two variables\n",
    "N_halo=struct.unpack(\"i\" , string[:4])\n",
    "T_halo=struct.unpack(\"d\" , string[4:12])\n",
    "\n",
    "\n",
    "#create and empty array\n",
    "data_halo=np.zeros((N_halo[0]*7),int)\n",
    "\n",
    "#fill in new array by unpacking rest of binary file\n",
    "for x in range(0,len(data_halo)):\n",
    "    data_halo[x]= struct.unpack(\"f\" , string[(x*4)+12: (x*4)+16])[0]\n",
    "\n",
    "    \n",
    "#reshape the array into proper shape\n",
    "data_halo=data_halo.reshape(N_halo[0],7)\n",
    "\n",
    "\n",
    "#create empty array for speeds\n",
    "v_halo = np.zeros(N_halo[0])\n",
    "\n",
    "#fill in speed array\n",
    "for x in range(0,N_halo[0]):\n",
    "    v_halo[x]= (data_halo[x,4]**2+data_halo[x,5]**2+data_halo[x,6]**2)**(.5)\n",
    "    \n",
    "    \n",
    "    \n",
    "num_bins = 50\n",
    "# the histogram of the data\n",
    "n, bins, patches = plt.hist(v_halo, num_bins, normed=1, facecolor='green', alpha=0.5)\n",
    "\n",
    "plt.xlabel('Speeds')\n",
    "plt.ylabel('Probability')\n",
    "plt.title(r'Velocity histogram (halo) 100568706')\n",
    "\n",
    "plt.subplots_adjust(left=0.15)\n",
    "plt.show()\n",
    "\n",
    "\n"
   ]
  },
  {
   "cell_type": "code",
   "execution_count": 2,
   "metadata": {
    "collapsed": false
   },
   "outputs": [
    {
     "data": {
      "image/png": "[encoded data removed]",
      "text/plain": [
       "<matplotlib.figure.Figure at 0x7fca82e13390>"
      ]
     },
     "metadata": {},
     "output_type": "display_data"
    }
   ],
   "source": [
    "import struct\n",
    "import numpy as np\n",
    "import matplotlib.pyplot as plt\n",
    "import matplotlib.mlab as mlab\n",
    "%matplotlib inline\n",
    "\n",
    "\n",
    "#************************************************\n",
    "#this part is same as first but uses larger data file\n",
    "#************************************************\n",
    "\n",
    "#read in binary file\n",
    "with open(\"../../Large_Data/snapshot_010.dat\", mode='rb') as file: \n",
    "    string = file.read()\n",
    "\n",
    "    \n",
    "#unpack first two variables\n",
    "N_010=struct.unpack(\"i\" , string[:4])\n",
    "T_010=struct.unpack(\"d\" , string[4:12])\n",
    "\n",
    "\n",
    "#create and empty array\n",
    "data_010=np.zeros((N_010[0]*7),int)\n",
    "\n",
    "#fill in new array by unpacking rest of binary file\n",
    "for x in range(0,len(data_010)):\n",
    "    data_010[x]= struct.unpack(\"f\" , string[(x*4)+12: (x*4)+16])[0]\n",
    "\n",
    "    \n",
    "#reshape the array into proper shape\n",
    "data_010=data_010.reshape(N_010[0],7)\n",
    "\n",
    "\n",
    "#create empty array for speeds\n",
    "v_010 = np.zeros(N_010[0])\n",
    "\n",
    "#fill in speed array\n",
    "for x in range(0,N_010[0]):\n",
    "    v_010[x]= (data_010[x,4]**2+data_010[x,5]**2+data_010[x,6]**2)**(.5)\n",
    "    \n",
    "    \n",
    "    \n",
    "num_bins = 50\n",
    "# the histogram of the data\n",
    "n, bins, patches = plt.hist(v_010, num_bins, normed=1, facecolor='green', alpha=0.5)\n",
    "\n",
    "plt.xlabel('Speeds')\n",
    "plt.ylabel('Probability')\n",
    "plt.title(r'Velocity histogram (010) 100568706')\n",
    "\n",
    "plt.subplots_adjust(left=0.15)\n",
    "plt.show()\n",
    "\n",
    "\n"
   ]
  },
  {
   "cell_type": "code",
   "execution_count": null,
   "metadata": {
    "collapsed": true
   },
   "outputs": [],
   "source": []
  }
 ],
 "metadata": {
  "kernelspec": {
   "display_name": "Python 3",
   "language": "python",
   "name": "python3"
  },
  "language_info": {
   "codemirror_mode": {
    "name": "ipython",
    "version": 3
   },
   "file_extension": ".py",
   "mimetype": "text/x-python",
   "name": "python",
   "nbconvert_exporter": "python",
   "pygments_lexer": "ipython3",
   "version": "3.4.3"
  }
 },
 "nbformat": 4,
 "nbformat_minor": 0
}
