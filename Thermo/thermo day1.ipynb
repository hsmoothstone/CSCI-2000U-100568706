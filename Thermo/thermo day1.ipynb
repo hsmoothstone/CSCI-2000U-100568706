{
 "cells": [
  {
   "cell_type": "code",
   "execution_count": 119,
   "metadata": {
    "collapsed": false
   },
   "outputs": [
    {
     "name": "stdout",
     "output_type": "stream",
     "text": [
      "[[  9.96732303e-01   2.61841651e+00   5.86178491e+00 ...,   8.06793753e+05\n",
      "    8.08412194e+05   8.10032256e+05]\n",
      " [  9.56503346e-01   2.57818755e+00   5.82155596e+00 ...,   8.06793713e+05\n",
      "    8.08412154e+05   8.10032216e+05]\n",
      " [  9.00962165e-01   2.52264637e+00   5.76601477e+00 ...,   8.06793657e+05\n",
      "    8.08412098e+05   8.10032161e+05]\n",
      " ..., \n",
      " [  8.10254524e-01   2.43193873e+00   5.67530713e+00 ...,   8.06793567e+05\n",
      "    8.08412007e+05   8.10032070e+05]\n",
      " [  1.32104481e-02   1.63489465e+00   4.87826306e+00 ...,   8.06792770e+05\n",
      "    8.08411210e+05   8.10031273e+05]\n",
      " [  4.87865235e-01   2.10954944e+00   5.35291785e+00 ...,   8.06793244e+05\n",
      "    8.08411685e+05   8.10031748e+05]]\n",
      "\n",
      "\n",
      "\n",
      "\n"
     ]
    }
   ],
   "source": [
    "import numpy as np\n",
    "\n",
    "\n",
    "\n",
    "#in array\n",
    "#force of x on y (position 1,2 is force of 1 on 2)\n",
    "\n",
    "#all particles attached by springs\n",
    "#all springs have k of 1\n",
    "# F = -kx   >>>  F=  -x\n",
    "\n",
    "#masses are all 1\n",
    "\n",
    "\n",
    "maxTimeSteps = 1000\n",
    "numParticles=100\n",
    "\n",
    "\n",
    "forces = np.zeros((numParticles , numParticles, maxTimeSteps))\n",
    "\n",
    "accels = np.zeros((numParticles,maxTimeSteps))\n",
    "\n",
    "velocs =np.zeros((numParticles,maxTimeSteps))\n",
    "\n",
    "posits = np.zeros((numParticles,maxTimeSteps))\n",
    "\n",
    "\n",
    "#random initial positions\n",
    "for h in range(0,numParticles):\n",
    "    posits[h,0]= np.random.random_sample()\n",
    "\n",
    "\n",
    "    \n",
    "    \n",
    "t=0\n",
    "\n",
    "while (t < maxTimeSteps):\n",
    "\n",
    "#forces\n",
    "    for y in range(0,numParticles):\n",
    "        for x in range(0,numParticles):\n",
    "            forces[x,y,t]= -(posits[x,t-1] - posits[y,t-1])   \n",
    "        \n",
    "#accels\n",
    "    for a in range(0,numParticles):\n",
    "        for b in range(0,numParticles):\n",
    "            accels[a,t] += forces[a,b,t]\n",
    "        \n",
    "#new velocities\n",
    "    if(t!=0):\n",
    "        for m in range(0,numParticles):\n",
    "            velocs[m,t]= velocs[m,t-1]+accels[m,t]\n",
    "            \n",
    "\n",
    "\n",
    "#new positions\n",
    "    if(t!=0):\n",
    "        for m in range(0,numParticles):\n",
    "            posits[m,t]= posits[m,t-1]+velocs[a,t]*1\n",
    "    \n",
    "    \n",
    "    \n",
    "    #update time\n",
    "    t+=1\n",
    "    \n",
    "\n",
    "\n",
    "print(posits)\n",
    "#print(forces)\n",
    "#print(velocs)\n",
    "print(\"\\n\")\n",
    "#print(forces)\n",
    "print(\"\\n\")\n",
    "#print(accels)\n",
    "\n",
    "\n",
    "\n"
   ]
  },
  {
   "cell_type": "code",
   "execution_count": null,
   "metadata": {
    "collapsed": true
   },
   "outputs": [],
   "source": []
  },
  {
   "cell_type": "code",
   "execution_count": null,
   "metadata": {
    "collapsed": true
   },
   "outputs": [],
   "source": []
  },
  {
   "cell_type": "code",
   "execution_count": null,
   "metadata": {
    "collapsed": true
   },
   "outputs": [],
   "source": []
  }
 ],
 "metadata": {
  "kernelspec": {
   "display_name": "Python 3",
   "language": "python",
   "name": "python3"
  },
  "language_info": {
   "codemirror_mode": {
    "name": "ipython",
    "version": 3
   },
   "file_extension": ".py",
   "mimetype": "text/x-python",
   "name": "python",
   "nbconvert_exporter": "python",
   "pygments_lexer": "ipython3",
   "version": "3.4.3"
  }
 },
 "nbformat": 4,
 "nbformat_minor": 0
}
