{
 "cells": [
  {
   "cell_type": "code",
   "execution_count": 1,
   "metadata": {
    "collapsed": false
   },
   "outputs": [
    {
     "name": "stdout",
     "output_type": "stream",
     "text": [
      "12711\n",
      "12338\n"
     ]
    }
   ],
   "source": [
    "import numpy as np\n",
    "import random\n",
    "\n",
    "#Hector Robinson\n",
    "#Thermo Assignment 2\n",
    "\n",
    "#I make a 2d array for the simulation\n",
    "#number of balls by the number of trials\n",
    "#each ball is either a 1 or a 0 in each trial representing a different box\n",
    "\n",
    "\n",
    "\n",
    "numParticles=4\n",
    "numTrials=100000\n",
    "\n",
    "#this function counts many trials have all the balls in the same box\n",
    "def allSameBox(array):\n",
    "    count=0\n",
    "    \n",
    "\n",
    "    for trial in range(0,numTrials):\n",
    "        same=True\n",
    "        \n",
    "        for ball in range(1,numParticles):    \n",
    "            newball=array[ball,trial]\n",
    "            lastball = array[ball-1,trial]\n",
    "           \n",
    "            if newball != lastball:\n",
    "                same=False\n",
    "                \n",
    "        if same==True:\n",
    "            count=count+1\n",
    "                \n",
    "    return count\n",
    "\n",
    "\n",
    "#pretend first half of balls are blue and second half are red\n",
    "#this function counts how many times all the red balls are in one box and all blue balls in the other\n",
    "def unmixedState(array):\n",
    "    count=0\n",
    "    \n",
    "    for trial in range(0,numTrials):\n",
    "        unmixed=True\n",
    "        \n",
    "        #check first half are all same (blue)\n",
    "        for ball in range(1,numParticles//2):    \n",
    "            newball=array[ball,trial]\n",
    "            lastball = array[ball-1,trial]\n",
    "            if newball != lastball:\n",
    "                unmixed=False\n",
    "        #check second halfare same (red)\n",
    "        for ball in range((numParticles//2)+1,numParticles):    \n",
    "            newball=array[ball,trial]\n",
    "            lastball = array[ball-1,trial]\n",
    "            if newball != lastball:\n",
    "                unmixed=False\n",
    "                \n",
    "        #rules out case where all balls on same side\n",
    "        if array[0,trial]==array[numParticles-1,trial]:          \n",
    "            unmixed=False\n",
    "\n",
    "        if unmixed==True:\n",
    "            count=count+1\n",
    "        \n",
    "    return count\n",
    "\n",
    "\n",
    "\n",
    "#create array of balls/trials\n",
    "balls = np.zeros((numParticles,numTrials))\n",
    "\n",
    "#each ball in each trial gets either a 1 or 0 for its box\n",
    "for trial in range(0,numTrials):\n",
    "    for ball in range(0,numParticles):\n",
    "        balls[ball,trial]=random.randint(0,1)\n",
    "        \n",
    "\n",
    "\n",
    "print(allSameBox(balls))\n",
    "print(unmixedState(balls))\n",
    "\n"
   ]
  },
  {
   "cell_type": "code",
   "execution_count": null,
   "metadata": {
    "collapsed": true
   },
   "outputs": [],
   "source": []
  },
  {
   "cell_type": "code",
   "execution_count": null,
   "metadata": {
    "collapsed": true
   },
   "outputs": [],
   "source": []
  },
  {
   "cell_type": "code",
   "execution_count": null,
   "metadata": {
    "collapsed": true
   },
   "outputs": [],
   "source": []
  },
  {
   "cell_type": "code",
   "execution_count": null,
   "metadata": {
    "collapsed": true
   },
   "outputs": [],
   "source": []
  },
  {
   "cell_type": "code",
   "execution_count": null,
   "metadata": {
    "collapsed": true
   },
   "outputs": [],
   "source": []
  },
  {
   "cell_type": "code",
   "execution_count": null,
   "metadata": {
    "collapsed": true
   },
   "outputs": [],
   "source": []
  },
  {
   "cell_type": "code",
   "execution_count": null,
   "metadata": {
    "collapsed": true
   },
   "outputs": [],
   "source": []
  },
  {
   "cell_type": "code",
   "execution_count": null,
   "metadata": {
    "collapsed": true
   },
   "outputs": [],
   "source": []
  },
  {
   "cell_type": "code",
   "execution_count": null,
   "metadata": {
    "collapsed": true
   },
   "outputs": [],
   "source": []
  }
 ],
 "metadata": {
  "kernelspec": {
   "display_name": "Python 3",
   "language": "python",
   "name": "python3"
  },
  "language_info": {
   "codemirror_mode": {
    "name": "ipython",
    "version": 3
   },
   "file_extension": ".py",
   "mimetype": "text/x-python",
   "name": "python",
   "nbconvert_exporter": "python",
   "pygments_lexer": "ipython3",
   "version": "3.4.3"
  }
 },
 "nbformat": 4,
 "nbformat_minor": 0
}
